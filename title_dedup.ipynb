{
 "cells": [
  {
   "cell_type": "markdown",
   "metadata": {},
   "source": [
    "# Title Deduplication \n",
    "Here we are going to perform an algorithm of deduplication - a method that helps to find titles that describe same entities. Deduplication will be held in two steps:\n",
    "- title normalization\n",
    "- calculating distance between normed titles\n",
    "- building edges based on those distances\n",
    "- finding components in the graph\n",
    "\n",
    "In our case we will try to deduplicate food titles from different grocery stores (in Russian)"
   ]
  },
  {
   "cell_type": "code",
   "execution_count": 1,
   "metadata": {},
   "outputs": [],
   "source": [
    "import numpy as np\n",
    "import pandas as pd\n",
    "\n",
    "import random\n",
    "import re\n",
    "import json\n",
    "import nltk\n",
    "from nltk.corpus import stopwords\n",
    "from nltk.stem import SnowballStemmer\n",
    "from nltk.tokenize import sent_tokenize, word_tokenize\n",
    "\n",
    "import seaborn as sn\n",
    "import matplotlib.pyplot as plt\n",
    "%matplotlib inline"
   ]
  },
  {
   "cell_type": "markdown",
   "metadata": {},
   "source": [
    "### Step 1. Normalization\n",
    "We are going to apply quite simplie normalization tricks:\n",
    "- lowercase\n",
    "- remove whitespaces to convert `0.5 l` to `0.5l`. It will help to consider weights and volumes as one token\n",
    "- normalize decimals delimeter: `0,25g` -> `0.25g`\n",
    "- remove commas\n",
    "- tokenize - split by whitespaces, the tokens are words\n",
    "- remove stopwords\n",
    "- stem words\n",
    "- sort words; although it won't affect the distance calculation, it would be nice to have a standart word order in a normalized form\n",
    "- join tokens with a single whitespace"
   ]
  },
  {
   "cell_type": "code",
   "execution_count": 2,
   "metadata": {},
   "outputs": [],
   "source": [
    "rus_stopwords = set(stopwords.words('russian'))\n",
    "rus_stopwords.remove('уже') # for the sake of Уже Готово\n",
    "rus_stemmer = SnowballStemmer('russian')"
   ]
  },
  {
   "cell_type": "code",
   "execution_count": 3,
   "metadata": {},
   "outputs": [],
   "source": [
    "def preprocess_title(title):\n",
    "    res = title.lower()\n",
    "    res = re.sub(r'([0-9]+)\\s+(g|kg|l|ml|л|г|грамм|кг|килограмм|литр|литров)\\b', '\\\\1\\\\2', res)\n",
    "    res = re.sub(r'([0-9]+),([0-9]+\\w*)\\b', '\\\\1.\\\\2', res)\n",
    "    res = re.sub(r',', '', res)\n",
    "    return res\n",
    "\n",
    "def tokenize_title(title, swords, stemmer=None):\n",
    "    res = preprocess_title(title)\n",
    "    # res = word_tokenize(res, 'russian')\n",
    "    res = res.split()\n",
    "    res = [word for word in res if word not in swords]\n",
    "    if stemmer != None:\n",
    "        res = [stemmer.stem(word) for word in res]\n",
    "    return res\n",
    "\n",
    "def normalize_title(title, swords, stemmer=None):\n",
    "    tokens = tokenize_title(title, swords, stemmer)\n",
    "    return ' '.join(sorted(tokens))"
   ]
  },
  {
   "cell_type": "code",
   "execution_count": 4,
   "metadata": {},
   "outputs": [
    {
     "data": {
      "text/plain": [
       "'200г готов коул-сло постн салат уж'"
      ]
     },
     "execution_count": 4,
     "metadata": {},
     "output_type": "execute_result"
    }
   ],
   "source": [
    "x = 'Салат Коул-Слоу постный, Уже Готово , 200 г'\n",
    "normalize_title(x, rus_stopwords, rus_stemmer)"
   ]
  },
  {
   "cell_type": "markdown",
   "metadata": {},
   "source": [
    "### Step 2. The distance\n",
    "We are going to use the `fuzzywuzzy` module to calculate Levenshtein distance between tokens in normalized form. \n",
    "The thing we are going to imply - similarity in groups of titles that represent the same is much higher than between members of different groups."
   ]
  },
  {
   "cell_type": "code",
   "execution_count": 5,
   "metadata": {},
   "outputs": [],
   "source": [
    "from fuzzywuzzy import fuzz\n",
    "from fuzzywuzzy import process"
   ]
  },
  {
   "cell_type": "code",
   "execution_count": 6,
   "metadata": {},
   "outputs": [
    {
     "data": {
      "text/plain": [
       "85"
      ]
     },
     "execution_count": 6,
     "metadata": {},
     "output_type": "execute_result"
    }
   ],
   "source": [
    "x = 'Салат Коул-Слоу постный, Уже Готово , 200 г'\n",
    "y = 'Салат Коул Слоу упак'\n",
    "fuzz.token_set_ratio(\n",
    "    normalize_title(x, rus_stopwords, rus_stemmer),\n",
    "    normalize_title(y, rus_stopwords, rus_stemmer)\n",
    ")"
   ]
  },
  {
   "cell_type": "markdown",
   "metadata": {},
   "source": [
    "Quite close. Let's see what happens to titles from the email"
   ]
  },
  {
   "cell_type": "code",
   "execution_count": 7,
   "metadata": {},
   "outputs": [],
   "source": [
    "testcases = [\n",
    "    'Кисломолочный напиток Актимель ежевично-черничный 100 г',\n",
    "    'Напиток Данон Актимель черника/ежевика 2,5% 6*0,1л Россия',\n",
    "    'Гель для душа Роскошная мягкость Черная орхидея Palmolive, 250 мл',\n",
    "    'Гель Palmolive Naturals д/душа Роскошная мягкость Черная орхидея 250мл Италия',\n",
    "    'Гель для душа Palmolive \"Черная орхидея\" 250 мл',\n",
    "    'Корм Whiskas говядина/кролик канапе новогодний 85г Россия'    \n",
    "]"
   ]
  },
  {
   "cell_type": "code",
   "execution_count": 8,
   "metadata": {},
   "outputs": [],
   "source": [
    "normed_testcases = [normalize_title(x, rus_stopwords, rus_stemmer) for x in testcases]"
   ]
  },
  {
   "cell_type": "code",
   "execution_count": 9,
   "metadata": {},
   "outputs": [],
   "source": [
    "similarity_matrix = np.zeros((len(testcases), len(testcases)))"
   ]
  },
  {
   "cell_type": "code",
   "execution_count": 10,
   "metadata": {},
   "outputs": [],
   "source": [
    "for i, x in enumerate(normed_testcases):\n",
    "    for j, y in enumerate(normed_testcases):\n",
    "        similarity_matrix[i, j] = fuzz.token_set_ratio(x, y)"
   ]
  },
  {
   "cell_type": "code",
   "execution_count": 11,
   "metadata": {},
   "outputs": [
    {
     "data": {
      "image/png": "[encoded data removed]",
      "text/plain": [
       "<Figure size 576x432 with 2 Axes>"
      ]
     },
     "metadata": {
      "needs_background": "light"
     },
     "output_type": "display_data"
    }
   ],
   "source": [
    "plt.figure(figsize=(8,6))\n",
    "sn.heatmap(similarity_matrix)\n",
    "plt.show()"
   ]
  },
  {
   "cell_type": "markdown",
   "metadata": {},
   "source": [
    "As we see from from diagonal blocks the result is correct: `[[1, 2], [3, 4, 5], [6]]`."
   ]
  },
  {
   "cell_type": "markdown",
   "metadata": {},
   "source": [
    "Let's get those groups explicitly in two steps:\n",
    "- build a graph on titles adding an edge if two titles are close enough\n",
    "- find components in the graph"
   ]
  },
  {
   "cell_type": "code",
   "execution_count": 12,
   "metadata": {},
   "outputs": [],
   "source": [
    "def add_ids_to_titles(title_list):\n",
    "    return {i: title for i, title in enumerate(title_list)}\n",
    "\n",
    "\n",
    "def build_graph(id_list, id_to_title_map, distance_func, thold):\n",
    "    graph = {}\n",
    "    for i, title_id in enumerate(id_list):\n",
    "        graph[title_id] = set()\n",
    "        title = id_to_title_map[title_id]\n",
    "        for candidate_title_id in id_list:\n",
    "            candidate_title = id_to_title_map[candidate_title_id]\n",
    "            if title_id != candidate_title_id and distance_func(title, candidate_title) > thold:\n",
    "                graph[title_id].add(candidate_title_id)\n",
    "    return graph\n",
    "\n",
    "\n",
    "def traverse_component(node, graph):\n",
    "    component_nodes = set()\n",
    "    queue = [node]\n",
    "    while len(queue):\n",
    "        cur_node = queue[0]\n",
    "        component_nodes.add(cur_node)\n",
    "        queue = queue[1:]\n",
    "        for next_node in graph[cur_node]:\n",
    "            if next_node not in component_nodes:\n",
    "                queue.append(next_node)\n",
    "    return sorted(list(component_nodes))\n",
    "    \n",
    "\n",
    "def build_components_list(graph):\n",
    "    nodes_seen = set()\n",
    "    components = []\n",
    "    for node in graph:\n",
    "        if node not in nodes_seen:\n",
    "            component = traverse_component(node, graph)\n",
    "            components.append(component)\n",
    "            nodes_seen = nodes_seen.union(component)\n",
    "    return components\n",
    "\n",
    "\n",
    "def group_titles(titles, distance_function=fuzz.token_set_ratio, thold=60):\n",
    "    normed_titles = [normalize_title(x, rus_stopwords, rus_stemmer) for x in titles]\n",
    "    id_to_title_map = add_ids_to_titles(normed_titles)\n",
    "    title_ids = list(id_to_title_map.keys())\n",
    "    graph = build_graph(title_ids, id_to_title_map, distance_function, thold)\n",
    "    grouped_ids = build_components_list(graph)\n",
    "    res = []\n",
    "    for group in grouped_ids:\n",
    "        res.append([titles[x] for x in group])\n",
    "    return res"
   ]
  },
  {
   "cell_type": "code",
   "execution_count": 13,
   "metadata": {},
   "outputs": [
    {
     "name": "stdout",
     "output_type": "stream",
     "text": [
      "Кисломолочный напиток Актимель ежевично-черничный 100 г\n",
      "Напиток Данон Актимель черника/ежевика 2,5% 6*0,1л Россия\n",
      "---\n",
      "Гель для душа Роскошная мягкость Черная орхидея Palmolive, 250 мл\n",
      "Гель Palmolive Naturals д/душа Роскошная мягкость Черная орхидея 250мл Италия\n",
      "Гель для душа Palmolive \"Черная орхидея\" 250 мл\n",
      "---\n",
      "Корм Whiskas говядина/кролик канапе новогодний 85г Россия\n",
      "---\n"
     ]
    }
   ],
   "source": [
    "for group in group_titles(testcases):\n",
    "    for title in group:\n",
    "        print(title)\n",
    "    print('---')"
   ]
  },
  {
   "cell_type": "markdown",
   "metadata": {},
   "source": [
    "Now we see the desired result. Good. Let's move to next and final part."
   ]
  },
  {
   "cell_type": "markdown",
   "metadata": {},
   "source": [
    "## Validation on full data (already groupped)"
   ]
  },
  {
   "cell_type": "code",
   "execution_count": 14,
   "metadata": {},
   "outputs": [],
   "source": [
    "with open('titles.json') as json_file:\n",
    "    data = json.load(json_file)"
   ]
  },
  {
   "cell_type": "markdown",
   "metadata": {},
   "source": [
    "#### Here we will plot some statistics - sizes of groups and most common tokens (before and after normalization)"
   ]
  },
  {
   "cell_type": "code",
   "execution_count": 15,
   "metadata": {},
   "outputs": [
    {
     "data": {
      "image/png": "[encoded data removed]",
      "text/plain": [
       "<Figure size 432x288 with 1 Axes>"
      ]
     },
     "metadata": {
      "needs_background": "light"
     },
     "output_type": "display_data"
    }
   ],
   "source": [
    "lengths = list(map(len, data))\n",
    "x_axis = np.arange(1, max(lengths) + 2)\n",
    "plt.hist(lengths, width=0.5, bins=x_axis)\n",
    "plt.grid()\n",
    "plt.xticks(x_axis)\n",
    "plt.xlabel('Titles List Length')\n",
    "plt.ylabel('Count')\n",
    "plt.title('List Length Distribution: {} lists'.format(len(data)))\n",
    "plt.show()"
   ]
  },
  {
   "cell_type": "code",
   "execution_count": 16,
   "metadata": {},
   "outputs": [
    {
     "data": {
      "text/plain": [
       "3580"
      ]
     },
     "execution_count": 16,
     "metadata": {},
     "output_type": "execute_result"
    }
   ],
   "source": [
    "sum(lengths)"
   ]
  },
  {
   "cell_type": "code",
   "execution_count": 17,
   "metadata": {},
   "outputs": [
    {
     "data": {
      "image/png": "[encoded data removed]",
      "text/plain": [
       "<Figure size 432x288 with 1 Axes>"
      ]
     },
     "metadata": {
      "needs_background": "light"
     },
     "output_type": "display_data"
    }
   ],
   "source": [
    "merged_data = sum(data, [])\n",
    "merged_data = sum([title.split() for title in merged_data], [])\n",
    "freq = nltk.FreqDist(merged_data)\n",
    "plt.title('Most common words for unnormed data')\n",
    "freq.plot(20, cumulative=False)\n",
    "plt.show()"
   ]
  },
  {
   "cell_type": "code",
   "execution_count": 18,
   "metadata": {},
   "outputs": [
    {
     "data": {
      "image/png": "[encoded data removed]",
      "text/plain": [
       "<Figure size 432x288 with 1 Axes>"
      ]
     },
     "metadata": {
      "needs_background": "light"
     },
     "output_type": "display_data"
    }
   ],
   "source": [
    "processed_titles = sum([tokenize_title(x, rus_stopwords, rus_stemmer) for x in sum(data, [])], [])\n",
    "freq = nltk.FreqDist(processed_titles)\n",
    "plt.title('Most common tokens after normalization')\n",
    "freq.plot(20, cumulative=False)\n",
    "plt.show()"
   ]
  },
  {
   "cell_type": "markdown",
   "metadata": {},
   "source": [
    "We are going to estimate ingroup and outgroup similarities.\n",
    "\n",
    "For ingroups we will implement a straighforward calculation for every pair in a group. \n",
    "As for outgroup similarity to decrease computational costs we will use **negative sampling** - for each title we will sample 10 other titles and calculate similarities with those, that do not belong to the same group as the target title."
   ]
  },
  {
   "cell_type": "code",
   "execution_count": 19,
   "metadata": {},
   "outputs": [],
   "source": [
    "preprocessed_data = []\n",
    "for i, group in enumerate(data):\n",
    "    for title in group:\n",
    "        normed_title = ' '.join(tokenize_title(title, rus_stopwords, rus_stemmer))\n",
    "        preprocessed_data.append([normed_title, i])"
   ]
  },
  {
   "cell_type": "code",
   "execution_count": 20,
   "metadata": {},
   "outputs": [],
   "source": [
    "ingroup_distance = []\n",
    "for group in data:\n",
    "    for i, x in enumerate(group):\n",
    "        for y in group[i+1:]:\n",
    "            ingroup_distance.append(\n",
    "                fuzz.token_set_ratio(\n",
    "                    ' '.join(tokenize_title(x, rus_stopwords, rus_stemmer)),\n",
    "                    ' '.join(tokenize_title(y, rus_stopwords, rus_stemmer))\n",
    "                )\n",
    "            )"
   ]
  },
  {
   "cell_type": "code",
   "execution_count": 21,
   "metadata": {},
   "outputs": [],
   "source": [
    "outgroup_distance = []\n",
    "for x in preprocessed_data:\n",
    "    for y in random.sample(preprocessed_data, 10):\n",
    "        if x[1] != y[1]:\n",
    "            outgroup_distance.append(fuzz.token_set_ratio(x[0], y[0]))"
   ]
  },
  {
   "cell_type": "code",
   "execution_count": 22,
   "metadata": {},
   "outputs": [
    {
     "data": {
      "image/png": "[encoded data removed]",
      "text/plain": [
       "<Figure size 432x288 with 1 Axes>"
      ]
     },
     "metadata": {
      "needs_background": "light"
     },
     "output_type": "display_data"
    }
   ],
   "source": [
    "plt.title('Distribution of fuzz.token_set_ratio inside/outside groups')\n",
    "plt.hist(ingroup_distance, label='ingroup', alpha=0.5, density=True)\n",
    "plt.hist(outgroup_distance, label='outgroup', alpha=0.5, density=True)\n",
    "plt.legend(loc=0)\n",
    "plt.grid()\n",
    "plt.xticks(np.arange(0, 110, 10))\n",
    "plt.show()"
   ]
  },
  {
   "cell_type": "markdown",
   "metadata": {},
   "source": [
    "This plot proves our point about ingroup and outgroup similarities and suggests that our approach was valid. However, there is still space to improve, as we see the overlapping parts of distributions."
   ]
  },
  {
   "cell_type": "code",
   "execution_count": 23,
   "metadata": {},
   "outputs": [],
   "source": [
    "titles = []\n",
    "for group in data:\n",
    "    titles += group"
   ]
  },
  {
   "cell_type": "code",
   "execution_count": 24,
   "metadata": {
    "scrolled": false
   },
   "outputs": [
    {
     "name": "stdout",
     "output_type": "stream",
     "text": [
      "Баклажаны с орехами упак\n",
      "Винегрет упак\n",
      "Салат FreshSecret Винегрет 600г\n",
      "Винегрет с ароматным подсолнечным маслом, Уже Готово , 350 г\n",
      "Морковь по-корейски\n",
      "Морковь по-корейски упак\n",
      "Салат FreshSecret Морковь по-корейски, 250г\n",
      "Морковь по-корейски, Уже Готово , 250 г\n",
      "Оладьи из кабачков упак\n",
      "Оладьи из кабачков, Уже Готово , 250 г\n",
      "Салат Коул Слоу упак\n",
      "Салат Коул-Слоу постный, Уже Готово , 200 г\n",
      "Салат Мимоза с горбушей\n",
      "Салат Мимоза по-домашнему упак\n",
      "Салат СлавянСалат премиум Мимоза, 320г\n",
      "Салат Мимоза с семгой от бренд-шефа АВ\n",
      "Салат Оливье упак\n",
      "Салат Оливье с мясом от бренд-шефа АВ\n",
      "Салат СлавянСалат Свекольный с чесноком 400г\n",
      "Салат свекольный с черносливом и грецкими орехами упак\n",
      "Салат свекла с черносливом, Уже Готово , 250 г\n",
      "Салат СлавянСалат Столичный 1кг\n",
      "Салат Столичный упак\n",
      "Салат Столичный , Городской супермаркет , Россия\n",
      "Салат Славянсалат Сырный 400г\n",
      "Салат Сырный упак\n",
      "Салат сырный, Уже Готово , 200 г\n",
      "Салат Цезарь с курицей\n",
      "Салат Цезарь упак\n",
      "Сельдь под шубой\n",
      "Сельдь под шубой упак\n",
      "Салат СлавянСалат премиум Сельдь под шубой, 320г\n",
      "Сырники жареные 400г Уже Готово\n",
      "---\n",
      "Баклажаны с творожной начинкой от бренд-шефа АВ\n",
      "---\n",
      "Блинчики с курицей упак (4 шт)\n",
      "Блинчики с мясом, Уже Готово , 140 г\n",
      "Блинчики с мясом упак (4 шт)\n",
      "Блинчики с мясом, Уже Готово , 220 г, Россия\n",
      "Лапша куриная, Уже Готово , 550 г, Россия\n",
      "---\n",
      "Блины без начинки упак\n",
      "---\n",
      "Блины Русские от бренд-шефа АВ, Россия\n",
      "Плов узбекский от бренд-шефа АВ\n",
      "---\n",
      "Голубцы мясные тушеные в томатно-сливочном соусе от бренд-шефа АВ\n",
      "Голубцы мясные упак\n",
      "Голубцы мясные упак\n",
      "---\n",
      "Запеканка творожная President Дольче ванильная 5,5% 350г\n",
      "Запеканка творожная упак\n",
      "Запеканка творожная с изюмом, Уже Готово , 300 г\n",
      "---\n",
      "Плов с мясом баранины упак\n",
      "---\n",
      "Суп-лапша куриная с потрошками упак\n",
      "---\n",
      "Сырники упак (6 шт)\n",
      "Сырники упак (6 шт)\n",
      "---\n",
      "Шашлык из свиной шейки в маринаде Велком охлажденный, 1,7-2,5кг\n",
      "Шашлык из свиной шейки п /ф упак\n",
      "Шашлык из свиной шейки в оригинальном маринаде от шеф повара Азбуки Вкуса\n",
      "---\n",
      "Антиперспирант Dove Men Заряд серебра шариковый 50мл Россия\n",
      "Дезодорант-антиперспирант шариковый Dove \"Заряд серебра\" мужской 50мл Россия\n",
      "Антиперспирант Dove Бережная забота аэрозоль 150мл Великобритания\n",
      "Дезодорант-антиперспирант Dove Бережная забота аэрозоль 150мл\n",
      "Антиперспирант Dove Невидимый аэрозоль 150мл Россия\n",
      "Антиперспирант-аэрозоль Невидимый Dove, 150 мл\n",
      "Дезодорант Dove невидимый спрей 150мл\n",
      "Дезодорант Dove Невидимый спрей 150мл\n",
      "Дезодорант Dove Invisible dry антиперспирант 150мл спрей\n",
      "---\n",
      "Бальзам Dessange экстра питание 200мл Испания\n",
      "Крем-ополаскиватель J.Dessange \"Экстра-питание\" для сухих и истощенных и жестких волос 200мл\n",
      "Крем-ополаскиватель Jacques Dessange \"Экстра Питание\" 200 мл Франция\n",
      "Бальзам Dessange экстрим 3 Масла 200мл Испания\n",
      "Бальзам-ополаскиватель Jacques Dessange экстрим 3 масла 200мл Испания\n",
      "---\n",
      "Бальзам Frosch Гранат для мытья посуды 0,5л Германия\n",
      "Бальзам для мытья посуды Frosch Гранат 500мл\n",
      "---\n",
      "Бритва Gillette Mach3 2 сменные кассеты Польша\n",
      "Станок для бритья Gillette Mach 3 + 2 сменные кассеты\n",
      "Бритвы Gillette Blue Simple 3 одноразовые 4шт Польша\n",
      "Бритвы одноразовые Blue Simple 3 Gillette, 4 шт\n",
      "Бритвы Venus 2 Satin Care одноразовые 4шт Польша\n",
      "Станок для бритья Gillette Simply Venus для женщин одноразовый, 4шт\n",
      "---\n",
      "Бумага Zewa Kids влажная 1шт Англия\n",
      "Туалетная бумага Zewa Детская, влажная, 42 шт\n",
      "Бумага Zewa Pure влажная 1шт Англия\n",
      "Туалетная бумага Zewa влажная, 42 шт\n",
      "Бумага Zewa влажная Миндальное молочко 1шт Англия\n",
      "Туалетная бумага Zewa Миндальное молочко, влажная, 42 шт\n",
      "Бумага Zewa влажная Ромашка 1шт Англия\n",
      "Туалетная бумага Zewa Ромашка, влажная, 42 шт\n",
      "Туалетная бумага Zewa Deluxe Белая, 3 слоя, 4 рулона\n",
      "Бумага Zewa Делюкс Белая туалетная 3 слоя 4 рулона Россия\n",
      "Туалетная бумага Zewa Deluxe 3-х слойная белая 4 рулона Россия\n",
      "Туалетная бумага ZEWA Deluxe 3-слойная, 8 рулонов\n",
      "Бумага Zewa Делюкс Белая туалетная 3 слоя 8 рулонов Россия\n",
      "Туалетная бумага Zewa Deluxe Белая, 3 слоя, 8 рулонов\n",
      "Бумага Zewa Делюкс Персик туалетная 3 слоя 4 рулона Россия\n",
      "Туалетная бумага Zewa Deluxe 3-х слойная персиковая 4 рулона Россия\n",
      "Туалетная бумага ZEWA Just1 4 слоя, 4 рулона\n",
      "Бумага Zewa Джаст туалетная 4 слоя 4 рулона Россия\n",
      "Туалетная бумага Zewa Just1 белая 4-х слойная SCA 4 рулона Россия\n",
      "---\n",
      "Капсулы для стирки ARIEL 3в1 Color, 15х28.8г\n",
      "Гель Ariel Liquid Capsules Color&Style в капсулах 15*28.8г Франция\n",
      "Средство для стирки Ariel для цветных тканей в капсулах 15X28.8г Франция\n",
      "Гель в капсулах Ariel Pods 3в1 Color, 15шт\n",
      "---\n",
      "CPU times: user 313 ms, sys: 3.53 ms, total: 316 ms\n",
      "Wall time: 316 ms\n"
     ]
    }
   ],
   "source": [
    "%%time\n",
    "title_groups = group_titles(titles[:100], thold=66)\n",
    "\n",
    "for group in title_groups:\n",
    "    for title in group:\n",
    "        print(title)\n",
    "    print('---')"
   ]
  },
  {
   "cell_type": "markdown",
   "metadata": {},
   "source": [
    "Slightly far from perfect"
   ]
  }
 ],
 "metadata": {
  "kernelspec": {
   "display_name": "Python 3",
   "language": "python",
   "name": "python3"
  },
  "language_info": {
   "codemirror_mode": {
    "name": "ipython",
    "version": 3
   },
   "file_extension": ".py",
   "mimetype": "text/x-python",
   "name": "python",
   "nbconvert_exporter": "python",
   "pygments_lexer": "ipython3",
   "version": "3.7.7"
  }
 },
 "nbformat": 4,
 "nbformat_minor": 4
}
