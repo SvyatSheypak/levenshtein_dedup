{
 "cells": [
  {
   "cell_type": "markdown",
   "metadata": {},
   "source": [
    "# This is the test task of Sviatoslav Sheipak\n",
    "(contact me via s.sheypak@gmail.com)"
   ]
  },
  {
   "cell_type": "markdown",
   "metadata": {},
   "source": [
    "# Task 1."
   ]
  },
  {
   "cell_type": "code",
   "execution_count": 1,
   "metadata": {},
   "outputs": [],
   "source": [
    "import numpy as np\n",
    "import pandas as pd\n",
    "\n",
    "from sklearn.linear_model import LinearRegression, Ridge, Lasso, ElasticNet\n",
    "from sklearn.metrics import mean_squared_error\n",
    "from sklearn.model_selection import train_test_split\n",
    "\n",
    "import matplotlib.pyplot as plt\n",
    "%matplotlib inline"
   ]
  },
  {
   "cell_type": "markdown",
   "metadata": {},
   "source": [
    "### Load the data"
   ]
  },
  {
   "cell_type": "code",
   "execution_count": 2,
   "metadata": {
    "scrolled": true
   },
   "outputs": [
    {
     "name": "stdout",
     "output_type": "stream",
     "text": [
      "(1000, 11)\n"
     ]
    },
    {
     "data": {
      "text/html": [
       "<div>\n",
       "<style scoped>\n",
       "    .dataframe tbody tr th:only-of-type {\n",
       "        vertical-align: middle;\n",
       "    }\n",
       "\n",
       "    .dataframe tbody tr th {\n",
       "        vertical-align: top;\n",
       "    }\n",
       "\n",
       "    .dataframe thead th {\n",
       "        text-align: right;\n",
       "    }\n",
       "</style>\n",
       "<table border=\"1\" class=\"dataframe\">\n",
       "  <thead>\n",
       "    <tr style=\"text-align: right;\">\n",
       "      <th></th>\n",
       "      <th>0</th>\n",
       "      <th>1</th>\n",
       "      <th>2</th>\n",
       "      <th>3</th>\n",
       "      <th>4</th>\n",
       "      <th>5</th>\n",
       "      <th>6</th>\n",
       "      <th>7</th>\n",
       "      <th>8</th>\n",
       "      <th>9</th>\n",
       "      <th>10</th>\n",
       "    </tr>\n",
       "  </thead>\n",
       "  <tbody>\n",
       "    <tr>\n",
       "      <th>0</th>\n",
       "      <td>0.155051</td>\n",
       "      <td>0.974187</td>\n",
       "      <td>0.074675</td>\n",
       "      <td>0.442146</td>\n",
       "      <td>0.369443</td>\n",
       "      <td>0.468138</td>\n",
       "      <td>0.578846</td>\n",
       "      <td>0.422744</td>\n",
       "      <td>0.931543</td>\n",
       "      <td>0.474148</td>\n",
       "      <td>15</td>\n",
       "    </tr>\n",
       "    <tr>\n",
       "      <th>1</th>\n",
       "      <td>0.968379</td>\n",
       "      <td>0.716820</td>\n",
       "      <td>0.678846</td>\n",
       "      <td>0.510049</td>\n",
       "      <td>0.545299</td>\n",
       "      <td>0.573692</td>\n",
       "      <td>0.817491</td>\n",
       "      <td>0.206636</td>\n",
       "      <td>0.880111</td>\n",
       "      <td>0.574187</td>\n",
       "      <td>17</td>\n",
       "    </tr>\n",
       "    <tr>\n",
       "      <th>2</th>\n",
       "      <td>0.468263</td>\n",
       "      <td>0.405603</td>\n",
       "      <td>0.320325</td>\n",
       "      <td>0.468084</td>\n",
       "      <td>0.100995</td>\n",
       "      <td>0.974407</td>\n",
       "      <td>0.300062</td>\n",
       "      <td>0.608356</td>\n",
       "      <td>0.050082</td>\n",
       "      <td>0.762011</td>\n",
       "      <td>12</td>\n",
       "    </tr>\n",
       "    <tr>\n",
       "      <th>3</th>\n",
       "      <td>0.776820</td>\n",
       "      <td>0.103740</td>\n",
       "      <td>0.373748</td>\n",
       "      <td>0.797782</td>\n",
       "      <td>0.906810</td>\n",
       "      <td>0.599069</td>\n",
       "      <td>0.626680</td>\n",
       "      <td>0.924705</td>\n",
       "      <td>0.632768</td>\n",
       "      <td>0.512663</td>\n",
       "      <td>16</td>\n",
       "    </tr>\n",
       "    <tr>\n",
       "      <th>4</th>\n",
       "      <td>0.407886</td>\n",
       "      <td>0.415357</td>\n",
       "      <td>0.101543</td>\n",
       "      <td>0.935160</td>\n",
       "      <td>0.444124</td>\n",
       "      <td>0.193607</td>\n",
       "      <td>0.656837</td>\n",
       "      <td>0.599929</td>\n",
       "      <td>0.868582</td>\n",
       "      <td>0.405406</td>\n",
       "      <td>20</td>\n",
       "    </tr>\n",
       "  </tbody>\n",
       "</table>\n",
       "</div>"
      ],
      "text/plain": [
       "         0         1         2         3         4         5         6   \\\n",
       "0  0.155051  0.974187  0.074675  0.442146  0.369443  0.468138  0.578846   \n",
       "1  0.968379  0.716820  0.678846  0.510049  0.545299  0.573692  0.817491   \n",
       "2  0.468263  0.405603  0.320325  0.468084  0.100995  0.974407  0.300062   \n",
       "3  0.776820  0.103740  0.373748  0.797782  0.906810  0.599069  0.626680   \n",
       "4  0.407886  0.415357  0.101543  0.935160  0.444124  0.193607  0.656837   \n",
       "\n",
       "         7         8         9   10  \n",
       "0  0.422744  0.931543  0.474148  15  \n",
       "1  0.206636  0.880111  0.574187  17  \n",
       "2  0.608356  0.050082  0.762011  12  \n",
       "3  0.924705  0.632768  0.512663  16  \n",
       "4  0.599929  0.868582  0.405406  20  "
      ]
     },
     "execution_count": 2,
     "metadata": {},
     "output_type": "execute_result"
    }
   ],
   "source": [
    "input_filename = 'task2.txt'\n",
    "db = pd.read_csv(input_filename, sep='\\t', header=None)\n",
    "print(db.shape)\n",
    "db.head()"
   ]
  },
  {
   "cell_type": "markdown",
   "metadata": {},
   "source": [
    "### Split to train and test"
   ]
  },
  {
   "cell_type": "code",
   "execution_count": 3,
   "metadata": {},
   "outputs": [],
   "source": [
    "seed = 42"
   ]
  },
  {
   "cell_type": "code",
   "execution_count": 4,
   "metadata": {},
   "outputs": [],
   "source": [
    "Y = db[10].values\n",
    "X = db.drop(columns=[10]).values\n",
    "X_train, X_test, Y_train, Y_test = train_test_split(X, Y, test_size=0.1, random_state=seed)"
   ]
  },
  {
   "cell_type": "code",
   "execution_count": 5,
   "metadata": {},
   "outputs": [
    {
     "data": {
      "text/plain": [
       "((900, 10), (100, 10))"
      ]
     },
     "execution_count": 5,
     "metadata": {},
     "output_type": "execute_result"
    }
   ],
   "source": [
    "X_train.shape, X_test.shape"
   ]
  },
  {
   "cell_type": "markdown",
   "metadata": {},
   "source": [
    "### Train models\n",
    "Here we have decided to experiment with linear models. This idea is based on the following facts:\n",
    "- these are the simplest types of models\n",
    "- they allow to examine feature importances\n",
    "- there are not many data points\n",
    "\n",
    "Here are 4 linear models with several kinds of regularizations. As we are facing a regression task in a very general form we will optimize MSE loss and use it as a criteria of models' effectivness."
   ]
  },
  {
   "cell_type": "code",
   "execution_count": 6,
   "metadata": {},
   "outputs": [],
   "source": [
    "model_lr = LinearRegression()\n",
    "model_l2 = Ridge()\n",
    "model_l1 = Lasso(alpha=0.001)\n",
    "model_el = ElasticNet(alpha=0.001)"
   ]
  },
  {
   "cell_type": "code",
   "execution_count": 7,
   "metadata": {},
   "outputs": [
    {
     "name": "stdout",
     "output_type": "stream",
     "text": [
      "LinearRegression train score: 5.814, test score: 6.916\n",
      "Ridge train score: 5.817, test score: 6.931\n",
      "Lasso train score: 5.814, test score: 6.913\n",
      "ElasticNet train score: 5.815, test score: 6.921\n"
     ]
    }
   ],
   "source": [
    "models_list = [model_lr, model_l2, model_l1, model_el]\n",
    "models_names = [\"LinearRegression\", \"Ridge\", \"Lasso\", \"ElasticNet\"]\n",
    "models_coefs = []\n",
    "for model, model_name in zip(models_list, models_names):\n",
    "    model.fit(X_train, Y_train)\n",
    "    train_pred = model.predict(X_train)\n",
    "    test_pred = model.predict(X_test)\n",
    "    train_score = mean_squared_error(Y_train, train_pred)\n",
    "    test_score = mean_squared_error(Y_test, test_pred)\n",
    "    print(\"{} train score: {:.3f}, test score: {:3.3f}\".format(model_name, train_score, test_score))\n",
    "    models_coefs.append(model.coef_)"
   ]
  },
  {
   "cell_type": "markdown",
   "metadata": {},
   "source": [
    "As we can see, there is no significant difference in results. Let's examine the coefficients of these models to figure out what are the most important features."
   ]
  },
  {
   "cell_type": "code",
   "execution_count": 8,
   "metadata": {},
   "outputs": [
    {
     "data": {
      "image/png": "[encoded data removed]",
      "text/plain": [
       "<Figure size 864x288 with 1 Axes>"
      ]
     },
     "metadata": {
      "needs_background": "light"
     },
     "output_type": "display_data"
    }
   ],
   "source": [
    "ncoef = len(models_coefs[0])\n",
    "nmodels = len(models_list)\n",
    "margins = np.linspace(-0.1, 0.1, nmodels)\n",
    "default_x = np.arange(ncoef)\n",
    "plt.figure(figsize=(12,4))\n",
    "plt.grid()\n",
    "for i in range(len(models_list)):\n",
    "    coefs = models_coefs[i]\n",
    "    plt.bar(margins[i] + default_x, coefs, label=models_names[i], width=0.05)\n",
    "plt.xticks(default_x)\n",
    "plt.xlabel('Coefficient Index')\n",
    "plt.ylabel('Coefficient Magnitude')\n",
    "plt.legend(loc='upper right')\n",
    "plt.show()"
   ]
  },
  {
   "cell_type": "markdown",
   "metadata": {},
   "source": [
    "Following the plot, we can conclude that the most important features are those with indexes `0, 1, 3, 4`. In order to express the importance with numbers from [0, 1] we could apply softmax to absolute values of these coefficients."
   ]
  },
  {
   "cell_type": "code",
   "execution_count": 9,
   "metadata": {},
   "outputs": [],
   "source": [
    "from scipy.special import softmax"
   ]
  },
  {
   "cell_type": "code",
   "execution_count": 10,
   "metadata": {},
   "outputs": [
    {
     "data": {
      "image/png": "[encoded data removed]",
      "text/plain": [
       "<Figure size 864x288 with 1 Axes>"
      ]
     },
     "metadata": {
      "needs_background": "light"
     },
     "output_type": "display_data"
    }
   ],
   "source": [
    "ncoef = len(models_coefs[0])\n",
    "nmodels = len(models_list)\n",
    "margins = np.linspace(-0.1, 0.1, nmodels)\n",
    "default_x = np.arange(ncoef)\n",
    "plt.figure(figsize=(12,4))\n",
    "plt.grid()\n",
    "for i in range(len(models_list)):\n",
    "    coefs = models_coefs[i]\n",
    "    plt.bar(margins[i] + default_x, softmax(abs(coefs)), label=models_names[i], width=0.05)\n",
    "plt.xticks(default_x)\n",
    "plt.xlabel('Coefficient Index')\n",
    "plt.ylabel('Coefficient Magnitude')\n",
    "plt.legend(loc='upper right')\n",
    "plt.show()"
   ]
  },
  {
   "cell_type": "markdown",
   "metadata": {},
   "source": [
    "However, it is not very descriptive.\n",
    "\n",
    "Let's train a model on `0, 1, 3, 4` features only."
   ]
  },
  {
   "cell_type": "code",
   "execution_count": 11,
   "metadata": {},
   "outputs": [
    {
     "name": "stdout",
     "output_type": "stream",
     "text": [
      "Smaller LR train score: 5.841, test score: 6.856\n"
     ]
    }
   ],
   "source": [
    "smaller_model = LinearRegression()\n",
    "important_feature_idx = [0, 1, 3, 4]\n",
    "smaller_model.fit(X_train[:,  important_feature_idx], Y_train)\n",
    "train_pred = smaller_model.predict(X_train[:,  important_feature_idx])\n",
    "test_pred = smaller_model.predict(X_test[:,  important_feature_idx])\n",
    "train_score = mean_squared_error(Y_train, train_pred)\n",
    "test_score = mean_squared_error(Y_test, test_pred)\n",
    "print(\"{} train score: {:.3f}, test score: {:3.3f}\".format('Smaller LR', train_score, test_score))"
   ]
  },
  {
   "cell_type": "markdown",
   "metadata": {},
   "source": [
    "The result didn't change much, therefore it only proves that all other features are not very significant.\n",
    "Now we switch to a slightly different method of feature importance investigation - one provided by random forest."
   ]
  },
  {
   "cell_type": "markdown",
   "metadata": {},
   "source": [
    "#### Random Forest Regressor and feature importance"
   ]
  },
  {
   "cell_type": "code",
   "execution_count": 12,
   "metadata": {},
   "outputs": [],
   "source": [
    "from sklearn.ensemble import RandomForestRegressor"
   ]
  },
  {
   "cell_type": "code",
   "execution_count": 13,
   "metadata": {},
   "outputs": [
    {
     "name": "stdout",
     "output_type": "stream",
     "text": [
      "Forest Regressor train score: 4.483, test score: 5.651\n"
     ]
    }
   ],
   "source": [
    "forest = RandomForestRegressor(n_estimators=50, max_depth=4)\n",
    "forest.fit(X_train, Y_train)\n",
    "train_pred = forest.predict(X_train)\n",
    "test_pred = forest.predict(X_test)\n",
    "train_score = mean_squared_error(Y_train, train_pred)\n",
    "test_score = mean_squared_error(Y_test, test_pred)\n",
    "print(\"{} train score: {:.3f}, test score: {:3.3f}\".format('Forest Regressor', train_score, test_score))"
   ]
  },
  {
   "cell_type": "code",
   "execution_count": 14,
   "metadata": {
    "scrolled": true
   },
   "outputs": [
    {
     "data": {
      "image/png": "[encoded data removed]",
      "text/plain": [
       "<Figure size 864x288 with 1 Axes>"
      ]
     },
     "metadata": {
      "needs_background": "light"
     },
     "output_type": "display_data"
    }
   ],
   "source": [
    "plt.figure(figsize=(12,4))\n",
    "plt.grid()\n",
    "plt.bar(default_x, forest.feature_importances_, label='RF', width=0.2)\n",
    "plt.xticks(default_x)\n",
    "plt.xlabel('Coefficient Index')\n",
    "plt.ylabel('Coefficient Magnitude')\n",
    "plt.legend(loc='upper right')\n",
    "plt.show()"
   ]
  },
  {
   "cell_type": "markdown",
   "metadata": {},
   "source": [
    "It drives us to the same conclusion - features `0, 1, 3, 4` are the relevant ones."
   ]
  },
  {
   "cell_type": "markdown",
   "metadata": {},
   "source": [
    "### Ways to improve\n",
    "To improve these results we could use other methods:\n",
    "- Recursive Feature Elimination (`from sklearn.feature_selection import RFE`)\n",
    "- Statistical criterias (`from sklearn.feature_selection import SelectKBest`)\n",
    "- Do PCA and examine variance matrix\n",
    "\n",
    "Or we could ask about the origin of the data and meaning of these features and try to deduct their importances from business/common sence perspective."
   ]
  },
  {
   "cell_type": "markdown",
   "metadata": {},
   "source": [
    "# Task 2.\n",
    "Here we are going to perform an algorithm of deduplication - a method that helps to find titles that describe same entities. Deduplication will be held in two steps:\n",
    "- title normalization\n",
    "- calculating distance between normed titles\n",
    "\n",
    "Titles are considered to refer to the same entity if they are close."
   ]
  },
  {
   "cell_type": "code",
   "execution_count": 15,
   "metadata": {},
   "outputs": [],
   "source": [
    "import random\n",
    "import re\n",
    "import json\n",
    "import nltk\n",
    "from nltk.corpus import stopwords\n",
    "from nltk.stem import SnowballStemmer\n",
    "from nltk.tokenize import sent_tokenize, word_tokenize"
   ]
  },
  {
   "cell_type": "markdown",
   "metadata": {},
   "source": [
    "### Step 1. Normalization\n",
    "We are going to apply quite simplie normalization tricks:\n",
    "- lowercase\n",
    "- remove whitespaces to convert `0.5 l` to `0.5l`. It will help to consider weights and volumes as one token\n",
    "- normalize decimals delimeter: `0,25g` -> `0.25g`\n",
    "- remove commas\n",
    "- tokenize - split by whitespaces, the tokens are words\n",
    "- remove stopwords\n",
    "- stem words\n",
    "- sort words; although it won't affect the distance calculation, it would be nice to have a standart word order in a normalized form\n",
    "- join tokens with a single whitespace"
   ]
  },
  {
   "cell_type": "code",
   "execution_count": 16,
   "metadata": {},
   "outputs": [],
   "source": [
    "rus_stopwords = set(stopwords.words('russian'))\n",
    "rus_stopwords.remove('уже') # for the sake of Уже Готово\n",
    "rus_stemmer = SnowballStemmer('russian')"
   ]
  },
  {
   "cell_type": "code",
   "execution_count": 17,
   "metadata": {},
   "outputs": [],
   "source": [
    "def preprocess_title(title):\n",
    "    res = title.lower()\n",
    "    res = re.sub(r'([0-9]+)\\s+(g|kg|l|ml|л|г|грамм|кг|килограмм|литр|литров)\\b', '\\\\1\\\\2', res)\n",
    "    res = re.sub(r'([0-9]+),([0-9]+\\w*)\\b', '\\\\1.\\\\2', res)\n",
    "    res = re.sub(r',', '', res)\n",
    "    return res\n",
    "\n",
    "def tokenize_title(title, swords, stemmer=None):\n",
    "    res = preprocess_title(title)\n",
    "    # res = word_tokenize(res, 'russian')\n",
    "    res = res.split()\n",
    "    res = [word for word in res if word not in swords]\n",
    "    if stemmer != None:\n",
    "        res = [stemmer.stem(word) for word in res]\n",
    "    return res\n",
    "\n",
    "def normalize_title(title, swords, stemmer=None):\n",
    "    tokens = tokenize_title(title, swords, stemmer)\n",
    "    return ' '.join(sorted(tokens))"
   ]
  },
  {
   "cell_type": "code",
   "execution_count": 18,
   "metadata": {},
   "outputs": [
    {
     "data": {
      "text/plain": [
       "'200г готов коул-сло постн салат уж'"
      ]
     },
     "execution_count": 18,
     "metadata": {},
     "output_type": "execute_result"
    }
   ],
   "source": [
    "x = 'Салат Коул-Слоу постный, Уже Готово , 200 г'\n",
    "normalize_title(x, rus_stopwords, rus_stemmer)"
   ]
  },
  {
   "cell_type": "markdown",
   "metadata": {},
   "source": [
    "### Step 2. The distance\n",
    "We are going to use the `fuzzywuzzy` module to calculate Levenshtein distance between tokens in normalized form. \n",
    "The thing we are going to imply - similarity in groups of titles that represent the same is much higher than between members of different groups."
   ]
  },
  {
   "cell_type": "code",
   "execution_count": 19,
   "metadata": {},
   "outputs": [],
   "source": [
    "# ! pip3 install python-Levenshtein\n",
    "from fuzzywuzzy import fuzz\n",
    "from fuzzywuzzy import process"
   ]
  },
  {
   "cell_type": "code",
   "execution_count": 20,
   "metadata": {},
   "outputs": [
    {
     "data": {
      "text/plain": [
       "85"
      ]
     },
     "execution_count": 20,
     "metadata": {},
     "output_type": "execute_result"
    }
   ],
   "source": [
    "x = 'Салат Коул-Слоу постный, Уже Готово , 200 г'\n",
    "y = 'Салат Коул Слоу упак'\n",
    "fuzz.token_set_ratio(\n",
    "    normalize_title(x, rus_stopwords, rus_stemmer),\n",
    "    normalize_title(y, rus_stopwords, rus_stemmer)\n",
    ")"
   ]
  },
  {
   "cell_type": "markdown",
   "metadata": {},
   "source": [
    "Quite close. Let's see what happens to titles from the email"
   ]
  },
  {
   "cell_type": "code",
   "execution_count": 21,
   "metadata": {},
   "outputs": [],
   "source": [
    "testcases = [\n",
    "    'Кисломолочный напиток Актимель ежевично-черничный 100 г',\n",
    "    'Напиток Данон Актимель черника/ежевика 2,5% 6*0,1л Россия',\n",
    "    'Гель для душа Роскошная мягкость Черная орхидея Palmolive, 250 мл',\n",
    "    'Гель Palmolive Naturals д/душа Роскошная мягкость Черная орхидея 250мл Италия',\n",
    "    'Гель для душа Palmolive \"Черная орхидея\" 250 мл',\n",
    "    'Корм Whiskas говядина/кролик канапе новогодний 85г Россия'    \n",
    "]"
   ]
  },
  {
   "cell_type": "code",
   "execution_count": 22,
   "metadata": {},
   "outputs": [],
   "source": [
    "normed_testcases = [normalize_title(x, rus_stopwords, rus_stemmer) for x in testcases]"
   ]
  },
  {
   "cell_type": "code",
   "execution_count": 23,
   "metadata": {},
   "outputs": [],
   "source": [
    "similarity_matrix = np.zeros((len(testcases), len(testcases)))"
   ]
  },
  {
   "cell_type": "code",
   "execution_count": 24,
   "metadata": {},
   "outputs": [],
   "source": [
    "for i, x in enumerate(normed_testcases):\n",
    "    for j, y in enumerate(normed_testcases):\n",
    "        similarity_matrix[i, j] = fuzz.token_set_ratio(x, y)"
   ]
  },
  {
   "cell_type": "code",
   "execution_count": 25,
   "metadata": {},
   "outputs": [
    {
     "data": {
      "image/png": "[encoded data removed]",
      "text/plain": [
       "<Figure size 576x432 with 2 Axes>"
      ]
     },
     "metadata": {
      "needs_background": "light"
     },
     "output_type": "display_data"
    }
   ],
   "source": [
    "import seaborn as sn\n",
    "plt.figure(figsize=(8,6))\n",
    "sn.heatmap(similarity_matrix)\n",
    "plt.show()"
   ]
  },
  {
   "cell_type": "markdown",
   "metadata": {},
   "source": [
    "As we see from from diagonal blocks the result is correct: `[[1, 2], [3, 4, 5], [6]]`.\n",
    "\n",
    "Let's obtain this grouping explicitly: \n",
    "- for each title we calculate average similarity with for every group that already exists\n",
    "- take the score of the most similar group: \n",
    "    - if the score is more than a threshold, we add this title to this group\n",
    "    - else this titles starts its own group\n",
    "    \n",
    "Theoretically we could adjust a thold, but since we don't have training data we'll use 50 - the middle of the scale."
   ]
  },
  {
   "cell_type": "code",
   "execution_count": 26,
   "metadata": {},
   "outputs": [],
   "source": [
    " def group_normed_titles(normed_titles, thold=50):\n",
    "    res = []\n",
    "    for title in normed_titles:\n",
    "        if not len(res):\n",
    "            res.append([title])\n",
    "            continue\n",
    "        group_scores = []\n",
    "        for i, group in enumerate(res):\n",
    "            group_scores.append(np.mean([fuzz.token_set_ratio(title, x) for x in group]))\n",
    "        argmax = np.argmax(group_scores)\n",
    "        max_score = group_scores[argmax]\n",
    "        if max_score < thold:\n",
    "            res.append([title])\n",
    "        else:\n",
    "            res[argmax].append(title)\n",
    "    return res"
   ]
  },
  {
   "cell_type": "code",
   "execution_count": 27,
   "metadata": {},
   "outputs": [
    {
     "data": {
      "text/plain": [
       "[['100г актимел ежевично-черничн кисломолочн напиток',\n",
       "  '2.5% 6*0.1л актимел данон напиток росс черника/ежевик'],\n",
       " ['250 palmolive гел душ мл мягкост орхиде роскошн черн',\n",
       "  '250мл naturals palmolive гел д/душ итал мягкост орхиде роскошн черн',\n",
       "  '\"черн 250 palmolive гел душ мл орхидея\"'],\n",
       " ['85г whiskas говядина/кролик канап корм новогодн росс']]"
      ]
     },
     "execution_count": 27,
     "metadata": {},
     "output_type": "execute_result"
    }
   ],
   "source": [
    "group_normed_titles(normed_testcases)"
   ]
  },
  {
   "cell_type": "markdown",
   "metadata": {},
   "source": [
    "Now we see the desired result. Good. Let's move to next and final part."
   ]
  },
  {
   "cell_type": "markdown",
   "metadata": {},
   "source": [
    "## Validation on full data"
   ]
  },
  {
   "cell_type": "code",
   "execution_count": 28,
   "metadata": {},
   "outputs": [],
   "source": [
    "with open('test_task_NLP.json') as json_file:\n",
    "    data = json.load(json_file)"
   ]
  },
  {
   "cell_type": "markdown",
   "metadata": {},
   "source": [
    "#### Here we will plot some statistics - sizes of groups and most common tokens (before and after normalization)"
   ]
  },
  {
   "cell_type": "code",
   "execution_count": 29,
   "metadata": {},
   "outputs": [
    {
     "data": {
      "image/png": "[encoded data removed]",
      "text/plain": [
       "<Figure size 432x288 with 1 Axes>"
      ]
     },
     "metadata": {
      "needs_background": "light"
     },
     "output_type": "display_data"
    }
   ],
   "source": [
    "lengths = list(map(len, data))\n",
    "x_axis = np.arange(1, max(lengths) + 2)\n",
    "plt.hist(lengths, width=0.5, bins=x_axis)\n",
    "plt.grid()\n",
    "plt.xticks(x_axis)\n",
    "plt.xlabel('Titles List Length')\n",
    "plt.ylabel('Count')\n",
    "plt.title('List Length Distribution: {} lists'.format(len(data)))\n",
    "plt.show()"
   ]
  },
  {
   "cell_type": "code",
   "execution_count": 30,
   "metadata": {},
   "outputs": [
    {
     "data": {
      "text/plain": [
       "3580"
      ]
     },
     "execution_count": 30,
     "metadata": {},
     "output_type": "execute_result"
    }
   ],
   "source": [
    "sum(lengths)"
   ]
  },
  {
   "cell_type": "code",
   "execution_count": 31,
   "metadata": {},
   "outputs": [
    {
     "data": {
      "image/png": "[encoded data removed]",
      "text/plain": [
       "<Figure size 432x288 with 1 Axes>"
      ]
     },
     "metadata": {
      "needs_background": "light"
     },
     "output_type": "display_data"
    }
   ],
   "source": [
    "merged_data = sum(data, [])\n",
    "merged_data = sum([title.split() for title in merged_data], [])\n",
    "freq = nltk.FreqDist(merged_data)\n",
    "plt.title('Most common words for unnormed data')\n",
    "freq.plot(20, cumulative=False)\n",
    "plt.show()"
   ]
  },
  {
   "cell_type": "code",
   "execution_count": 32,
   "metadata": {},
   "outputs": [
    {
     "data": {
      "image/png": "[encoded data removed]",
      "text/plain": [
       "<Figure size 432x288 with 1 Axes>"
      ]
     },
     "metadata": {
      "needs_background": "light"
     },
     "output_type": "display_data"
    }
   ],
   "source": [
    "processed_titles = sum([tokenize_title(x, rus_stopwords, rus_stemmer) for x in sum(data, [])], [])\n",
    "freq = nltk.FreqDist(processed_titles)\n",
    "plt.title('Most common tokens after normalization')\n",
    "freq.plot(20, cumulative=False)\n",
    "plt.show()"
   ]
  },
  {
   "cell_type": "markdown",
   "metadata": {},
   "source": [
    "We are going to estimate ingroup and outgroup similarities.\n",
    "\n",
    "For ingroups we will implement a straighforward calculation for every pair in a group. \n",
    "As for outgroup similarity to decrease computational costs we will use **negative sampling** - for each title we will sample 10 other titles and calculate similarities with those, that do not belong to the same group as the target title."
   ]
  },
  {
   "cell_type": "code",
   "execution_count": 33,
   "metadata": {},
   "outputs": [],
   "source": [
    "preprocessed_data = []\n",
    "for i, group in enumerate(data):\n",
    "    for title in group:\n",
    "        normed_title = ' '.join(tokenize_title(title, rus_stopwords, rus_stemmer))\n",
    "        preprocessed_data.append([normed_title, i])"
   ]
  },
  {
   "cell_type": "code",
   "execution_count": 34,
   "metadata": {},
   "outputs": [],
   "source": [
    "ingroup_distance = []\n",
    "for group in data:\n",
    "    for i, x in enumerate(group):\n",
    "        for y in group[i+1:]:\n",
    "            ingroup_distance.append(\n",
    "                fuzz.token_set_ratio(\n",
    "                    ' '.join(tokenize_title(x, rus_stopwords, rus_stemmer)),\n",
    "                    ' '.join(tokenize_title(y, rus_stopwords, rus_stemmer))\n",
    "                )\n",
    "            )"
   ]
  },
  {
   "cell_type": "code",
   "execution_count": 35,
   "metadata": {},
   "outputs": [],
   "source": [
    "outgroup_distance = []\n",
    "for x in preprocessed_data:\n",
    "    for y in random.sample(preprocessed_data, 10):\n",
    "        if x[1] != y[1]:\n",
    "            outgroup_distance.append(fuzz.token_set_ratio(x[0], y[0]))"
   ]
  },
  {
   "cell_type": "code",
   "execution_count": 36,
   "metadata": {},
   "outputs": [
    {
     "data": {
      "image/png": "[encoded data removed]",
      "text/plain": [
       "<Figure size 432x288 with 1 Axes>"
      ]
     },
     "metadata": {
      "needs_background": "light"
     },
     "output_type": "display_data"
    }
   ],
   "source": [
    "plt.title('Distribution of fuzz.token_set_ratio inside/outside groups')\n",
    "plt.hist(ingroup_distance, label='ingroup', alpha=0.5, density=True)\n",
    "plt.hist(outgroup_distance, label='outgroup', alpha=0.5, density=True)\n",
    "plt.legend(loc=0)\n",
    "plt.grid()\n",
    "plt.xticks(np.arange(0, 110, 10))\n",
    "plt.show()"
   ]
  },
  {
   "cell_type": "markdown",
   "metadata": {},
   "source": [
    "This plot proves our point about ingroup and outgroup similarities and suggests that our approach was valid. However, there is still space to improve, as we see the overlapping parts of distributions."
   ]
  }
 ],
 "metadata": {
  "kernelspec": {
   "display_name": "Python 3",
   "language": "python",
   "name": "python3"
  },
  "language_info": {
   "codemirror_mode": {
    "name": "ipython",
    "version": 3
   },
   "file_extension": ".py",
   "mimetype": "text/x-python",
   "name": "python",
   "nbconvert_exporter": "python",
   "pygments_lexer": "ipython3",
   "version": "3.7.6"
  }
 },
 "nbformat": 4,
 "nbformat_minor": 4
}
